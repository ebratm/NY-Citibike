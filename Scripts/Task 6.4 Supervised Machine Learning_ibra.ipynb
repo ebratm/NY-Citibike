{
 "cells": [
  {
   "cell_type": "markdown",
   "id": "dda0d1d7",
   "metadata": {},
   "source": [
    "\n",
    "# Task 6.4: Supervised Machine Learning\n"
   ]
  },
  {
   "cell_type": "markdown",
   "id": "d30043b0",
   "metadata": {},
   "source": [
    "\n",
    "## This Notebook contains the following Steps;\n",
    "\n",
    "### Step 1. Importing Libraries and Data\n",
    "### Step 2. Data Quality Checks\n",
    "### Step 3. Regression Analysis Data Prep\n",
    "### Step 4. Regression Analysis\n",
    "\n",
    "   <b> Testing the Hypothesis:</b> More male leads in bike’s rental than Female\n",
    "\n",
    "\n",
    "### Step 5. The Conclusion\n",
    "\n",
    "### Step 6. Data Export\n",
    "\n"
   ]
  },
  {
   "cell_type": "markdown",
   "id": "fa1744e7",
   "metadata": {},
   "source": [
    "\n",
    "## Step 1: Importing Data and Libraries\n"
   ]
  },
  {
   "cell_type": "code",
   "execution_count": 1,
   "id": "62713b4f",
   "metadata": {},
   "outputs": [],
   "source": [
    "#Step 1.1: Importing Necessary Libraries; \n",
    "\n",
    "import pandas as pd\n",
    "import numpy as np\n",
    "import seaborn as sns\n",
    "import matplotlib\n",
    "import matplotlib.pyplot as plt\n",
    "import os\n",
    "import sklearn\n",
    "from sklearn.model_selection import train_test_split \n",
    "from sklearn.linear_model import LinearRegression\n",
    "from sklearn.metrics import mean_squared_error, r2_score"
   ]
  },
  {
   "cell_type": "code",
   "execution_count": 2,
   "id": "b8e12044",
   "metadata": {},
   "outputs": [],
   "source": [
    "#This command propts matplotlib visuals to appear in the notebook;\n",
    "\n",
    "%matplotlib inline"
   ]
  },
  {
   "cell_type": "code",
   "execution_count": 3,
   "id": "e4533016",
   "metadata": {},
   "outputs": [],
   "source": [
    "#Step 1.2: Creating a Folderpath for Citibike_Final Dataset; \n",
    "\n",
    "path ='/users/ibu/Documents/Bike Rental Analysis'"
   ]
  },
  {
   "cell_type": "code",
   "execution_count": 4,
   "id": "ae736b28",
   "metadata": {},
   "outputs": [],
   "source": [
    "#Step 1.3: Importing 'Citibike_Final' Dataset from 'Prepared' Data Folder;\n",
    "\n",
    "df_NYBikes = pd.read_csv(os.path.join(path, '02 Data', 'Prepared', 'Citibike_T63.csv'), index_col = False)"
   ]
  },
  {
   "cell_type": "code",
   "execution_count": 5,
   "id": "27784003",
   "metadata": {},
   "outputs": [
    {
     "data": {
      "text/plain": [
       "(50000, 18)"
      ]
     },
     "execution_count": 5,
     "metadata": {},
     "output_type": "execute_result"
    }
   ],
   "source": [
    "#Step 1.4: Checking Shape & Dimension; \n",
    "\n",
    "df_NYBikes.shape"
   ]
  },
  {
   "cell_type": "code",
   "execution_count": 6,
   "id": "e1e5b857",
   "metadata": {},
   "outputs": [
    {
     "data": {
      "text/html": [
       "<div>\n",
       "<style scoped>\n",
       "    .dataframe tbody tr th:only-of-type {\n",
       "        vertical-align: middle;\n",
       "    }\n",
       "\n",
       "    .dataframe tbody tr th {\n",
       "        vertical-align: top;\n",
       "    }\n",
       "\n",
       "    .dataframe thead th {\n",
       "        text-align: right;\n",
       "    }\n",
       "</style>\n",
       "<table border=\"1\" class=\"dataframe\">\n",
       "  <thead>\n",
       "    <tr style=\"text-align: right;\">\n",
       "      <th></th>\n",
       "      <th>Unnamed: 0</th>\n",
       "      <th>Bike_ID</th>\n",
       "      <th>Weekday</th>\n",
       "      <th>Start_Hour</th>\n",
       "      <th>Start_Time</th>\n",
       "      <th>Start_Station_ID</th>\n",
       "      <th>Start_Station_Name</th>\n",
       "      <th>Start_Station_Latitude</th>\n",
       "      <th>Start_Station_Longitude</th>\n",
       "      <th>End_Time</th>\n",
       "      <th>End_Station_ID</th>\n",
       "      <th>End_Station_Name</th>\n",
       "      <th>End_Station_Latitude</th>\n",
       "      <th>End_Station_Longitude</th>\n",
       "      <th>Trip_Duration</th>\n",
       "      <th>Member_Status</th>\n",
       "      <th>Gender</th>\n",
       "      <th>Distance</th>\n",
       "    </tr>\n",
       "  </thead>\n",
       "  <tbody>\n",
       "    <tr>\n",
       "      <th>0</th>\n",
       "      <td>0</td>\n",
       "      <td>16013</td>\n",
       "      <td>Mon</td>\n",
       "      <td>18</td>\n",
       "      <td>9/9/13 18:18</td>\n",
       "      <td>523</td>\n",
       "      <td>W 38 St &amp; 8 Ave</td>\n",
       "      <td>40.754666</td>\n",
       "      <td>-73.991382</td>\n",
       "      <td>9/9/13 18:35</td>\n",
       "      <td>334</td>\n",
       "      <td>W 20 St &amp; 7 Ave</td>\n",
       "      <td>40.742388</td>\n",
       "      <td>-73.997262</td>\n",
       "      <td>993</td>\n",
       "      <td>Subscriber</td>\n",
       "      <td>Female</td>\n",
       "      <td>High_Latitude</td>\n",
       "    </tr>\n",
       "    <tr>\n",
       "      <th>1</th>\n",
       "      <td>1</td>\n",
       "      <td>15230</td>\n",
       "      <td>Thu</td>\n",
       "      <td>18</td>\n",
       "      <td>9/12/13 18:38</td>\n",
       "      <td>257</td>\n",
       "      <td>Lispenard St &amp; Broadway</td>\n",
       "      <td>40.719392</td>\n",
       "      <td>-74.002472</td>\n",
       "      <td>9/12/13 18:48</td>\n",
       "      <td>236</td>\n",
       "      <td>St Marks Pl &amp; 2 Ave</td>\n",
       "      <td>40.728419</td>\n",
       "      <td>-73.987140</td>\n",
       "      <td>581</td>\n",
       "      <td>Subscriber</td>\n",
       "      <td>Male</td>\n",
       "      <td>Mid_Latitude</td>\n",
       "    </tr>\n",
       "    <tr>\n",
       "      <th>2</th>\n",
       "      <td>2</td>\n",
       "      <td>17942</td>\n",
       "      <td>Wed</td>\n",
       "      <td>19</td>\n",
       "      <td>9/18/13 19:44</td>\n",
       "      <td>479</td>\n",
       "      <td>9 Ave &amp; W 45 St</td>\n",
       "      <td>40.760193</td>\n",
       "      <td>-73.991255</td>\n",
       "      <td>9/18/13 19:50</td>\n",
       "      <td>513</td>\n",
       "      <td>W 56 St &amp; 10 Ave</td>\n",
       "      <td>40.768254</td>\n",
       "      <td>-73.988639</td>\n",
       "      <td>361</td>\n",
       "      <td>Subscriber</td>\n",
       "      <td>Male</td>\n",
       "      <td>High_Latitude</td>\n",
       "    </tr>\n",
       "    <tr>\n",
       "      <th>3</th>\n",
       "      <td>3</td>\n",
       "      <td>19683</td>\n",
       "      <td>Sat</td>\n",
       "      <td>11</td>\n",
       "      <td>9/28/13 11:54</td>\n",
       "      <td>527</td>\n",
       "      <td>E 33 St &amp; 1 Ave</td>\n",
       "      <td>40.743156</td>\n",
       "      <td>-73.974347</td>\n",
       "      <td>9/28/13 12:03</td>\n",
       "      <td>441</td>\n",
       "      <td>E 52 St &amp; 2 Ave</td>\n",
       "      <td>40.756014</td>\n",
       "      <td>-73.967416</td>\n",
       "      <td>561</td>\n",
       "      <td>Subscriber</td>\n",
       "      <td>Female</td>\n",
       "      <td>High_Latitude</td>\n",
       "    </tr>\n",
       "    <tr>\n",
       "      <th>4</th>\n",
       "      <td>4</td>\n",
       "      <td>18024</td>\n",
       "      <td>Sat</td>\n",
       "      <td>18</td>\n",
       "      <td>9/7/13 18:08</td>\n",
       "      <td>521</td>\n",
       "      <td>8 Ave &amp; W 31 St</td>\n",
       "      <td>40.750450</td>\n",
       "      <td>-73.994811</td>\n",
       "      <td>9/7/13 18:46</td>\n",
       "      <td>476</td>\n",
       "      <td>E 31 St &amp; 3 Ave</td>\n",
       "      <td>40.743943</td>\n",
       "      <td>-73.979661</td>\n",
       "      <td>2296</td>\n",
       "      <td>Non-Subscriber</td>\n",
       "      <td>Unknown</td>\n",
       "      <td>High_Latitude</td>\n",
       "    </tr>\n",
       "  </tbody>\n",
       "</table>\n",
       "</div>"
      ],
      "text/plain": [
       "   Unnamed: 0  Bike_ID Weekday  Start_Hour     Start_Time  Start_Station_ID  \\\n",
       "0           0    16013     Mon          18   9/9/13 18:18               523   \n",
       "1           1    15230     Thu          18  9/12/13 18:38               257   \n",
       "2           2    17942     Wed          19  9/18/13 19:44               479   \n",
       "3           3    19683     Sat          11  9/28/13 11:54               527   \n",
       "4           4    18024     Sat          18   9/7/13 18:08               521   \n",
       "\n",
       "        Start_Station_Name  Start_Station_Latitude  Start_Station_Longitude  \\\n",
       "0          W 38 St & 8 Ave               40.754666               -73.991382   \n",
       "1  Lispenard St & Broadway               40.719392               -74.002472   \n",
       "2          9 Ave & W 45 St               40.760193               -73.991255   \n",
       "3          E 33 St & 1 Ave               40.743156               -73.974347   \n",
       "4          8 Ave & W 31 St               40.750450               -73.994811   \n",
       "\n",
       "        End_Time  End_Station_ID     End_Station_Name  End_Station_Latitude  \\\n",
       "0   9/9/13 18:35             334      W 20 St & 7 Ave             40.742388   \n",
       "1  9/12/13 18:48             236  St Marks Pl & 2 Ave             40.728419   \n",
       "2  9/18/13 19:50             513     W 56 St & 10 Ave             40.768254   \n",
       "3  9/28/13 12:03             441      E 52 St & 2 Ave             40.756014   \n",
       "4   9/7/13 18:46             476      E 31 St & 3 Ave             40.743943   \n",
       "\n",
       "   End_Station_Longitude  Trip_Duration   Member_Status   Gender  \\\n",
       "0             -73.997262            993      Subscriber   Female   \n",
       "1             -73.987140            581      Subscriber     Male   \n",
       "2             -73.988639            361      Subscriber     Male   \n",
       "3             -73.967416            561      Subscriber   Female   \n",
       "4             -73.979661           2296  Non-Subscriber  Unknown   \n",
       "\n",
       "        Distance  \n",
       "0  High_Latitude  \n",
       "1   Mid_Latitude  \n",
       "2  High_Latitude  \n",
       "3  High_Latitude  \n",
       "4  High_Latitude  "
      ]
     },
     "execution_count": 6,
     "metadata": {},
     "output_type": "execute_result"
    }
   ],
   "source": [
    "#Step 1.5: Checking Shape & Dimension; \n",
    "\n",
    "df_NYBikes.head()"
   ]
  },
  {
   "cell_type": "markdown",
   "id": "a09546fe",
   "metadata": {},
   "source": [
    "\n",
    "## Step 2: Data Quality Checks\n"
   ]
  },
  {
   "cell_type": "code",
   "execution_count": 7,
   "id": "760a87ed",
   "metadata": {},
   "outputs": [
    {
     "data": {
      "text/plain": [
       "Index(['Unnamed: 0', 'Bike_ID', 'Weekday', 'Start_Hour', 'Start_Time',\n",
       "       'Start_Station_ID', 'Start_Station_Name', 'Start_Station_Latitude',\n",
       "       'Start_Station_Longitude', 'End_Time', 'End_Station_ID',\n",
       "       'End_Station_Name', 'End_Station_Latitude', 'End_Station_Longitude',\n",
       "       'Trip_Duration', 'Member_Status', 'Gender', 'Distance'],\n",
       "      dtype='object')"
      ]
     },
     "execution_count": 7,
     "metadata": {},
     "output_type": "execute_result"
    }
   ],
   "source": [
    "#Step 2.1: Checking Columns; \n",
    "\n",
    "df_NYBikes.columns"
   ]
  },
  {
   "cell_type": "code",
   "execution_count": 8,
   "id": "c2294abd",
   "metadata": {},
   "outputs": [],
   "source": [
    "#Step 2.2: Dropping Unnecessary Columns; \n",
    "\n",
    "df_NYBikes = df_NYBikes.drop(columns = ['Unnamed: 0'])"
   ]
  },
  {
   "cell_type": "code",
   "execution_count": 9,
   "id": "be0e1ed7",
   "metadata": {},
   "outputs": [
    {
     "name": "stdout",
     "output_type": "stream",
     "text": [
      "<class 'pandas.core.frame.DataFrame'>\n",
      "RangeIndex: 50000 entries, 0 to 49999\n",
      "Data columns (total 17 columns):\n",
      " #   Column                   Non-Null Count  Dtype  \n",
      "---  ------                   --------------  -----  \n",
      " 0   Bike_ID                  50000 non-null  int64  \n",
      " 1   Weekday                  50000 non-null  object \n",
      " 2   Start_Hour               50000 non-null  int64  \n",
      " 3   Start_Time               50000 non-null  object \n",
      " 4   Start_Station_ID         50000 non-null  int64  \n",
      " 5   Start_Station_Name       50000 non-null  object \n",
      " 6   Start_Station_Latitude   50000 non-null  float64\n",
      " 7   Start_Station_Longitude  50000 non-null  float64\n",
      " 8   End_Time                 50000 non-null  object \n",
      " 9   End_Station_ID           50000 non-null  int64  \n",
      " 10  End_Station_Name         50000 non-null  object \n",
      " 11  End_Station_Latitude     50000 non-null  float64\n",
      " 12  End_Station_Longitude    50000 non-null  float64\n",
      " 13  Trip_Duration            50000 non-null  int64  \n",
      " 14  Member_Status            50000 non-null  object \n",
      " 15  Gender                   50000 non-null  object \n",
      " 16  Distance                 50000 non-null  object \n",
      "dtypes: float64(4), int64(5), object(8)\n",
      "memory usage: 6.5+ MB\n"
     ]
    }
   ],
   "source": [
    "#Step 2.3: Querying Dataset Info; \n",
    "\n",
    "df_NYBikes.info()"
   ]
  },
  {
   "cell_type": "code",
   "execution_count": 10,
   "id": "1fcec29e",
   "metadata": {},
   "outputs": [
    {
     "data": {
      "text/plain": [
       "(50000, 17)"
      ]
     },
     "execution_count": 10,
     "metadata": {},
     "output_type": "execute_result"
    }
   ],
   "source": [
    "#Step 2.4: Confirming Dataframe Shape; \n",
    "\n",
    "df_NYBikes.shape"
   ]
  },
  {
   "cell_type": "code",
   "execution_count": 11,
   "id": "a75f1d31",
   "metadata": {},
   "outputs": [
    {
     "data": {
      "text/plain": [
       "Bike_ID                    0\n",
       "Weekday                    0\n",
       "Start_Hour                 0\n",
       "Start_Time                 0\n",
       "Start_Station_ID           0\n",
       "Start_Station_Name         0\n",
       "Start_Station_Latitude     0\n",
       "Start_Station_Longitude    0\n",
       "End_Time                   0\n",
       "End_Station_ID             0\n",
       "End_Station_Name           0\n",
       "End_Station_Latitude       0\n",
       "End_Station_Longitude      0\n",
       "Trip_Duration              0\n",
       "Member_Status              0\n",
       "Gender                     0\n",
       "Distance                   0\n",
       "dtype: int64"
      ]
     },
     "execution_count": 11,
     "metadata": {},
     "output_type": "execute_result"
    }
   ],
   "source": [
    "#Step 2.5: Checking for Missing Values; \n",
    "\n",
    "df_NYBikes.isnull().sum()"
   ]
  },
  {
   "cell_type": "markdown",
   "id": "a46f147d",
   "metadata": {},
   "source": [
    "<b> No missing values found"
   ]
  },
  {
   "cell_type": "code",
   "execution_count": 12,
   "id": "04d4150e",
   "metadata": {},
   "outputs": [],
   "source": [
    "#Step 2.6: Checking for Duplicates; \n",
    "\n",
    "NYBikes_Dups = df_NYBikes.duplicated()"
   ]
  },
  {
   "cell_type": "code",
   "execution_count": 13,
   "id": "1f6875e0",
   "metadata": {},
   "outputs": [
    {
     "data": {
      "text/plain": [
       "(50000,)"
      ]
     },
     "execution_count": 13,
     "metadata": {},
     "output_type": "execute_result"
    }
   ],
   "source": [
    "NYBikes_Dups.shape"
   ]
  },
  {
   "cell_type": "markdown",
   "id": "309d0ddc",
   "metadata": {},
   "source": [
    "<b> No Duplicates Found. "
   ]
  },
  {
   "cell_type": "code",
   "execution_count": 14,
   "id": "88192635",
   "metadata": {},
   "outputs": [
    {
     "name": "stderr",
     "output_type": "stream",
     "text": [
      "/Users/ibu/opt/anaconda3/lib/python3.9/site-packages/seaborn/distributions.py:2619: FutureWarning: `distplot` is a deprecated function and will be removed in a future version. Please adapt your code to use either `displot` (a figure-level function with similar flexibility) or `histplot` (an axes-level function for histograms).\n",
      "  warnings.warn(msg, FutureWarning)\n"
     ]
    },
    {
     "data": {
      "text/plain": [
       "<AxesSubplot:xlabel='Trip_Duration', ylabel='Density'>"
      ]
     },
     "execution_count": 14,
     "metadata": {},
     "output_type": "execute_result"
    },
    {
     "data": {
      "image/png": "[encoded data removed]",
      "text/plain": [
       "<Figure size 640x480 with 1 Axes>"
      ]
     },
     "metadata": {},
     "output_type": "display_data"
    }
   ],
   "source": [
    "#Step 2.7a: Checking for Extreme Values;\n",
    "\n",
    "sns.distplot(df_NYBikes['Trip_Duration'],bins = 18, kde = True)"
   ]
  },
  {
   "cell_type": "code",
   "execution_count": 15,
   "id": "e00b5160",
   "metadata": {},
   "outputs": [
    {
     "name": "stderr",
     "output_type": "stream",
     "text": [
      "/Users/ibu/opt/anaconda3/lib/python3.9/site-packages/seaborn/distributions.py:2619: FutureWarning: `distplot` is a deprecated function and will be removed in a future version. Please adapt your code to use either `displot` (a figure-level function with similar flexibility) or `histplot` (an axes-level function for histograms).\n",
      "  warnings.warn(msg, FutureWarning)\n"
     ]
    },
    {
     "data": {
      "text/plain": [
       "<AxesSubplot:xlabel='Start_Hour', ylabel='Density'>"
      ]
     },
     "execution_count": 15,
     "metadata": {},
     "output_type": "execute_result"
    },
    {
     "data": {
      "image/png": "[encoded data removed]",
      "text/plain": [
       "<Figure size 640x480 with 1 Axes>"
      ]
     },
     "metadata": {},
     "output_type": "display_data"
    }
   ],
   "source": [
    "#Step 2.7b: Checking for Extreme Values;\n",
    "\n",
    "sns.distplot(df_NYBikes['Start_Hour'],bins = 18, kde = True)"
   ]
  },
  {
   "cell_type": "code",
   "execution_count": 16,
   "id": "52a12a83",
   "metadata": {},
   "outputs": [
    {
     "data": {
      "text/html": [
       "<div>\n",
       "<style scoped>\n",
       "    .dataframe tbody tr th:only-of-type {\n",
       "        vertical-align: middle;\n",
       "    }\n",
       "\n",
       "    .dataframe tbody tr th {\n",
       "        vertical-align: top;\n",
       "    }\n",
       "\n",
       "    .dataframe thead th {\n",
       "        text-align: right;\n",
       "    }\n",
       "</style>\n",
       "<table border=\"1\" class=\"dataframe\">\n",
       "  <thead>\n",
       "    <tr style=\"text-align: right;\">\n",
       "      <th></th>\n",
       "      <th>Bike_ID</th>\n",
       "      <th>Start_Hour</th>\n",
       "      <th>Start_Station_ID</th>\n",
       "      <th>Start_Station_Latitude</th>\n",
       "      <th>Start_Station_Longitude</th>\n",
       "      <th>End_Station_ID</th>\n",
       "      <th>End_Station_Latitude</th>\n",
       "      <th>End_Station_Longitude</th>\n",
       "      <th>Trip_Duration</th>\n",
       "    </tr>\n",
       "  </thead>\n",
       "  <tbody>\n",
       "    <tr>\n",
       "      <th>count</th>\n",
       "      <td>50000.000000</td>\n",
       "      <td>50000.000000</td>\n",
       "      <td>50000.000000</td>\n",
       "      <td>50000.000000</td>\n",
       "      <td>50000.000000</td>\n",
       "      <td>50000.000000</td>\n",
       "      <td>50000.000000</td>\n",
       "      <td>50000.000000</td>\n",
       "      <td>50000.000000</td>\n",
       "    </tr>\n",
       "    <tr>\n",
       "      <th>mean</th>\n",
       "      <td>17615.269360</td>\n",
       "      <td>14.145240</td>\n",
       "      <td>443.321500</td>\n",
       "      <td>40.734170</td>\n",
       "      <td>-73.991109</td>\n",
       "      <td>442.539700</td>\n",
       "      <td>40.733859</td>\n",
       "      <td>-73.991351</td>\n",
       "      <td>838.982900</td>\n",
       "    </tr>\n",
       "    <tr>\n",
       "      <th>std</th>\n",
       "      <td>1675.407446</td>\n",
       "      <td>4.860541</td>\n",
       "      <td>356.559925</td>\n",
       "      <td>0.019911</td>\n",
       "      <td>0.012555</td>\n",
       "      <td>355.756022</td>\n",
       "      <td>0.019885</td>\n",
       "      <td>0.012569</td>\n",
       "      <td>573.663997</td>\n",
       "    </tr>\n",
       "    <tr>\n",
       "      <th>min</th>\n",
       "      <td>14556.000000</td>\n",
       "      <td>0.000000</td>\n",
       "      <td>72.000000</td>\n",
       "      <td>40.680342</td>\n",
       "      <td>-74.017134</td>\n",
       "      <td>72.000000</td>\n",
       "      <td>40.680342</td>\n",
       "      <td>-74.017134</td>\n",
       "      <td>60.000000</td>\n",
       "    </tr>\n",
       "    <tr>\n",
       "      <th>25%</th>\n",
       "      <td>16188.000000</td>\n",
       "      <td>10.000000</td>\n",
       "      <td>304.000000</td>\n",
       "      <td>40.720196</td>\n",
       "      <td>-74.000271</td>\n",
       "      <td>304.000000</td>\n",
       "      <td>40.720196</td>\n",
       "      <td>-74.001547</td>\n",
       "      <td>417.000000</td>\n",
       "    </tr>\n",
       "    <tr>\n",
       "      <th>50%</th>\n",
       "      <td>17584.000000</td>\n",
       "      <td>15.000000</td>\n",
       "      <td>402.000000</td>\n",
       "      <td>40.735877</td>\n",
       "      <td>-73.990765</td>\n",
       "      <td>402.000000</td>\n",
       "      <td>40.735354</td>\n",
       "      <td>-73.991218</td>\n",
       "      <td>672.000000</td>\n",
       "    </tr>\n",
       "    <tr>\n",
       "      <th>75%</th>\n",
       "      <td>19014.000000</td>\n",
       "      <td>18.000000</td>\n",
       "      <td>484.000000</td>\n",
       "      <td>40.750020</td>\n",
       "      <td>-73.981923</td>\n",
       "      <td>483.000000</td>\n",
       "      <td>40.749013</td>\n",
       "      <td>-73.982050</td>\n",
       "      <td>1112.000000</td>\n",
       "    </tr>\n",
       "    <tr>\n",
       "      <th>max</th>\n",
       "      <td>20642.000000</td>\n",
       "      <td>23.000000</td>\n",
       "      <td>3002.000000</td>\n",
       "      <td>40.770513</td>\n",
       "      <td>-73.950048</td>\n",
       "      <td>3002.000000</td>\n",
       "      <td>40.770513</td>\n",
       "      <td>-73.950048</td>\n",
       "      <td>2697.000000</td>\n",
       "    </tr>\n",
       "  </tbody>\n",
       "</table>\n",
       "</div>"
      ],
      "text/plain": [
       "            Bike_ID    Start_Hour  Start_Station_ID  Start_Station_Latitude  \\\n",
       "count  50000.000000  50000.000000      50000.000000            50000.000000   \n",
       "mean   17615.269360     14.145240        443.321500               40.734170   \n",
       "std     1675.407446      4.860541        356.559925                0.019911   \n",
       "min    14556.000000      0.000000         72.000000               40.680342   \n",
       "25%    16188.000000     10.000000        304.000000               40.720196   \n",
       "50%    17584.000000     15.000000        402.000000               40.735877   \n",
       "75%    19014.000000     18.000000        484.000000               40.750020   \n",
       "max    20642.000000     23.000000       3002.000000               40.770513   \n",
       "\n",
       "       Start_Station_Longitude  End_Station_ID  End_Station_Latitude  \\\n",
       "count             50000.000000    50000.000000          50000.000000   \n",
       "mean                -73.991109      442.539700             40.733859   \n",
       "std                   0.012555      355.756022              0.019885   \n",
       "min                 -74.017134       72.000000             40.680342   \n",
       "25%                 -74.000271      304.000000             40.720196   \n",
       "50%                 -73.990765      402.000000             40.735354   \n",
       "75%                 -73.981923      483.000000             40.749013   \n",
       "max                 -73.950048     3002.000000             40.770513   \n",
       "\n",
       "       End_Station_Longitude  Trip_Duration  \n",
       "count           50000.000000   50000.000000  \n",
       "mean              -73.991351     838.982900  \n",
       "std                 0.012569     573.663997  \n",
       "min               -74.017134      60.000000  \n",
       "25%               -74.001547     417.000000  \n",
       "50%               -73.991218     672.000000  \n",
       "75%               -73.982050    1112.000000  \n",
       "max               -73.950048    2697.000000  "
      ]
     },
     "execution_count": 16,
     "metadata": {},
     "output_type": "execute_result"
    }
   ],
   "source": [
    "df_NYBikes.describe()"
   ]
  },
  {
   "cell_type": "markdown",
   "id": "6acc07c4",
   "metadata": {},
   "source": [
    "\n",
    "## Step 3: Regression Analysis Data Prep\n"
   ]
  },
  {
   "cell_type": "code",
   "execution_count": 17,
   "id": "e63fd277",
   "metadata": {},
   "outputs": [],
   "source": [
    "#Step 3.1: Converting Columns: 'Start_Time' & 'End_time' to Datetime Format; \n",
    "\n",
    "df_NYBikes['Start_Time']=pd.to_datetime(df_NYBikes['Start_Time'])\n",
    "\n",
    "df_NYBikes['End_time']=pd.to_datetime(df_NYBikes['End_Time'])"
   ]
  },
  {
   "cell_type": "code",
   "execution_count": 18,
   "id": "f957795f",
   "metadata": {},
   "outputs": [
    {
     "data": {
      "image/png": "[encoded data removed]",
      "text/plain": [
       "<Figure size 640x480 with 1 Axes>"
      ]
     },
     "metadata": {},
     "output_type": "display_data"
    }
   ],
   "source": [
    "#Step 3.2: Create a scatterplot using matplotlib for another look at how the chosen variables plot against each other;\n",
    "\n",
    "df_NYBikes.plot(x = 'Trip_Duration', y='Start_Hour',style='o') # The style option creates a scatterplot; without it, we only have lines.\n",
    "plt.title('Trip_Duration vs Start_Hour')  \n",
    "plt.xlabel('Trip_Duration')  \n",
    "plt.ylabel('Start_Hour')  \n",
    "plt.show()"
   ]
  },
  {
   "cell_type": "code",
   "execution_count": 19,
   "id": "a820bc2e",
   "metadata": {},
   "outputs": [
    {
     "data": {
      "image/png": "[encoded data removed]",
      "text/plain": [
       "<Figure size 640x480 with 1 Axes>"
      ]
     },
     "metadata": {},
     "output_type": "display_data"
    }
   ],
   "source": [
    "#Step 3.2b: Create a scatterplot using matplotlib for another look at how the chosen variables plot against each other;\n",
    "\n",
    "df_NYBikes.plot(x = 'Trip_Duration', y='Start_Station_ID',style='o') # The style option creates a scatterplot; without it, we only have lines.\n",
    "plt.title('Trip_Duration vs Start_Station_ID')  \n",
    "plt.xlabel('Trip_Duration')  \n",
    "plt.ylabel('Start_Station_ID')  \n",
    "plt.show()"
   ]
  },
  {
   "cell_type": "code",
   "execution_count": 20,
   "id": "052706b9",
   "metadata": {},
   "outputs": [],
   "source": [
    "#Step 3.3: Reshaping Variables into NumPy Arrays and put them into Separate Objects;\n",
    "\n",
    "x = df_NYBikes['Trip_Duration'].values.reshape(-1,1)\n",
    "\n",
    "y = df_NYBikes['Start_Hour'].values.reshape(-1,1)"
   ]
  },
  {
   "cell_type": "code",
   "execution_count": 21,
   "id": "f6bf849d",
   "metadata": {},
   "outputs": [
    {
     "data": {
      "text/plain": [
       "array([[ 993],\n",
       "       [ 581],\n",
       "       [ 361],\n",
       "       ...,\n",
       "       [1050],\n",
       "       [2697],\n",
       "       [ 370]])"
      ]
     },
     "execution_count": 21,
     "metadata": {},
     "output_type": "execute_result"
    }
   ],
   "source": [
    "x"
   ]
  },
  {
   "cell_type": "code",
   "execution_count": 22,
   "id": "6f47ecb0",
   "metadata": {},
   "outputs": [
    {
     "data": {
      "text/plain": [
       "array([[18],\n",
       "       [18],\n",
       "       [19],\n",
       "       ...,\n",
       "       [18],\n",
       "       [13],\n",
       "       [21]])"
      ]
     },
     "execution_count": 22,
     "metadata": {},
     "output_type": "execute_result"
    }
   ],
   "source": [
    "y"
   ]
  },
  {
   "cell_type": "code",
   "execution_count": 23,
   "id": "d2c12579",
   "metadata": {},
   "outputs": [],
   "source": [
    "#Step 3.4: Splitting Data into a Training Set and Test Set;\n",
    "\n",
    "x_train,x_test,y_train,y_test = train_test_split(x,y,test_size = 0.3,random_state = 0)"
   ]
  },
  {
   "cell_type": "markdown",
   "id": "30780811",
   "metadata": {},
   "source": [
    "\n",
    "## Step 4: Regression Analysis\n",
    "\n",
    "   <b> Testing the Hypothesis:</b> More male leads in bike’s rental than Female\n"
   ]
  },
  {
   "cell_type": "code",
   "execution_count": 24,
   "id": "55bd5367",
   "metadata": {},
   "outputs": [],
   "source": [
    "#Step 4.1: Creating a Regression Object;\n",
    "\n",
    "Regression = LinearRegression()"
   ]
  },
  {
   "cell_type": "code",
   "execution_count": 25,
   "id": "4adbc1da",
   "metadata": {},
   "outputs": [
    {
     "data": {
      "text/plain": [
       "LinearRegression()"
      ]
     },
     "execution_count": 25,
     "metadata": {},
     "output_type": "execute_result"
    }
   ],
   "source": [
    "#Step 4.2: Fit the Regression Object onto the Training Set;\n",
    "\n",
    "Regression.fit(x_train, y_train)"
   ]
  },
  {
   "cell_type": "code",
   "execution_count": 26,
   "id": "73d301bc",
   "metadata": {},
   "outputs": [],
   "source": [
    "#Step 4.3: Predicting the Values of y using x;\n",
    "\n",
    "y_predicted = Regression.predict(x_test)"
   ]
  },
  {
   "cell_type": "code",
   "execution_count": 27,
   "id": "88481dc5",
   "metadata": {},
   "outputs": [
    {
     "data": {
      "image/png": "[encoded data removed]",
      "text/plain": [
       "<Figure size 640x480 with 1 Axes>"
      ]
     },
     "metadata": {},
     "output_type": "display_data"
    }
   ],
   "source": [
    "#Step 4.4: Creating a Plot Showing the Regression Line from Test Set Model;\n",
    "\n",
    "plot_test = plt\n",
    "plot_test.scatter(x_test, y_test, color='gray', s = 15)\n",
    "plot_test.plot(x_test, y_predicted, color='red', linewidth =3)\n",
    "plot_test.title('Trip_Duration vs. Start_Hour (Test Set)')\n",
    "plot_test.xlabel('Trip_Duration')\n",
    "plot_test.ylabel('Start_Hour')\n",
    "plot_test.show()"
   ]
  },
  {
   "cell_type": "code",
   "execution_count": 28,
   "id": "ca1b0162",
   "metadata": {},
   "outputs": [],
   "source": [
    "#Step 4.5: Creating Objects that Contain the Model Summary Statistics;\n",
    "\n",
    "rmse = mean_squared_error(y_test, y_predicted) # This is the mean squared error\n",
    "r2 = r2_score(y_test, y_predicted) # This is the R2 score. "
   ]
  },
  {
   "cell_type": "code",
   "execution_count": 29,
   "id": "5dd76490",
   "metadata": {},
   "outputs": [
    {
     "name": "stdout",
     "output_type": "stream",
     "text": [
      "Slope: [[0.00033541]]\n",
      "Mean squared error:  23.66943935679213\n",
      "R2 score:  0.0017274221535059642\n"
     ]
    }
   ],
   "source": [
    "#Step 4.6: Printing Model's Summary Statistics: This is where you evaluate the performance of the model;\n",
    "\n",
    "print('Slope:' , Regression.coef_)\n",
    "print('Mean squared error: ', rmse)\n",
    "print('R2 score: ', r2)"
   ]
  },
  {
   "cell_type": "code",
   "execution_count": 30,
   "id": "fad07ff3",
   "metadata": {},
   "outputs": [
    {
     "data": {
      "text/html": [
       "<div>\n",
       "<style scoped>\n",
       "    .dataframe tbody tr th:only-of-type {\n",
       "        vertical-align: middle;\n",
       "    }\n",
       "\n",
       "    .dataframe tbody tr th {\n",
       "        vertical-align: top;\n",
       "    }\n",
       "\n",
       "    .dataframe thead th {\n",
       "        text-align: right;\n",
       "    }\n",
       "</style>\n",
       "<table border=\"1\" class=\"dataframe\">\n",
       "  <thead>\n",
       "    <tr style=\"text-align: right;\">\n",
       "      <th></th>\n",
       "      <th>Actual</th>\n",
       "      <th>Predicted</th>\n",
       "    </tr>\n",
       "  </thead>\n",
       "  <tbody>\n",
       "    <tr>\n",
       "      <th>0</th>\n",
       "      <td>19</td>\n",
       "      <td>14.004843</td>\n",
       "    </tr>\n",
       "    <tr>\n",
       "      <th>1</th>\n",
       "      <td>20</td>\n",
       "      <td>14.429469</td>\n",
       "    </tr>\n",
       "    <tr>\n",
       "      <th>2</th>\n",
       "      <td>19</td>\n",
       "      <td>14.265454</td>\n",
       "    </tr>\n",
       "    <tr>\n",
       "      <th>3</th>\n",
       "      <td>16</td>\n",
       "      <td>14.138335</td>\n",
       "    </tr>\n",
       "    <tr>\n",
       "      <th>4</th>\n",
       "      <td>0</td>\n",
       "      <td>13.986731</td>\n",
       "    </tr>\n",
       "    <tr>\n",
       "      <th>5</th>\n",
       "      <td>18</td>\n",
       "      <td>14.108819</td>\n",
       "    </tr>\n",
       "    <tr>\n",
       "      <th>6</th>\n",
       "      <td>8</td>\n",
       "      <td>13.994780</td>\n",
       "    </tr>\n",
       "    <tr>\n",
       "      <th>7</th>\n",
       "      <td>15</td>\n",
       "      <td>14.254721</td>\n",
       "    </tr>\n",
       "    <tr>\n",
       "      <th>8</th>\n",
       "      <td>16</td>\n",
       "      <td>13.955538</td>\n",
       "    </tr>\n",
       "    <tr>\n",
       "      <th>9</th>\n",
       "      <td>17</td>\n",
       "      <td>13.970966</td>\n",
       "    </tr>\n",
       "    <tr>\n",
       "      <th>10</th>\n",
       "      <td>17</td>\n",
       "      <td>14.082993</td>\n",
       "    </tr>\n",
       "    <tr>\n",
       "      <th>11</th>\n",
       "      <td>16</td>\n",
       "      <td>14.510637</td>\n",
       "    </tr>\n",
       "    <tr>\n",
       "      <th>12</th>\n",
       "      <td>21</td>\n",
       "      <td>13.923003</td>\n",
       "    </tr>\n",
       "    <tr>\n",
       "      <th>13</th>\n",
       "      <td>11</td>\n",
       "      <td>13.984718</td>\n",
       "    </tr>\n",
       "    <tr>\n",
       "      <th>14</th>\n",
       "      <td>17</td>\n",
       "      <td>14.112508</td>\n",
       "    </tr>\n",
       "    <tr>\n",
       "      <th>15</th>\n",
       "      <td>14</td>\n",
       "      <td>13.978681</td>\n",
       "    </tr>\n",
       "    <tr>\n",
       "      <th>16</th>\n",
       "      <td>17</td>\n",
       "      <td>14.704503</td>\n",
       "    </tr>\n",
       "    <tr>\n",
       "      <th>17</th>\n",
       "      <td>16</td>\n",
       "      <td>14.027986</td>\n",
       "    </tr>\n",
       "    <tr>\n",
       "      <th>18</th>\n",
       "      <td>16</td>\n",
       "      <td>14.058508</td>\n",
       "    </tr>\n",
       "    <tr>\n",
       "      <th>19</th>\n",
       "      <td>8</td>\n",
       "      <td>13.951513</td>\n",
       "    </tr>\n",
       "    <tr>\n",
       "      <th>20</th>\n",
       "      <td>23</td>\n",
       "      <td>14.312747</td>\n",
       "    </tr>\n",
       "    <tr>\n",
       "      <th>21</th>\n",
       "      <td>10</td>\n",
       "      <td>14.049116</td>\n",
       "    </tr>\n",
       "    <tr>\n",
       "      <th>22</th>\n",
       "      <td>19</td>\n",
       "      <td>14.160472</td>\n",
       "    </tr>\n",
       "    <tr>\n",
       "      <th>23</th>\n",
       "      <td>15</td>\n",
       "      <td>14.448252</td>\n",
       "    </tr>\n",
       "    <tr>\n",
       "      <th>24</th>\n",
       "      <td>12</td>\n",
       "      <td>14.165167</td>\n",
       "    </tr>\n",
       "    <tr>\n",
       "      <th>25</th>\n",
       "      <td>17</td>\n",
       "      <td>14.023625</td>\n",
       "    </tr>\n",
       "    <tr>\n",
       "      <th>26</th>\n",
       "      <td>9</td>\n",
       "      <td>13.997799</td>\n",
       "    </tr>\n",
       "    <tr>\n",
       "      <th>27</th>\n",
       "      <td>20</td>\n",
       "      <td>14.300337</td>\n",
       "    </tr>\n",
       "    <tr>\n",
       "      <th>28</th>\n",
       "      <td>14</td>\n",
       "      <td>14.392909</td>\n",
       "    </tr>\n",
       "    <tr>\n",
       "      <th>29</th>\n",
       "      <td>15</td>\n",
       "      <td>14.021948</td>\n",
       "    </tr>\n",
       "  </tbody>\n",
       "</table>\n",
       "</div>"
      ],
      "text/plain": [
       "    Actual  Predicted\n",
       "0       19  14.004843\n",
       "1       20  14.429469\n",
       "2       19  14.265454\n",
       "3       16  14.138335\n",
       "4        0  13.986731\n",
       "5       18  14.108819\n",
       "6        8  13.994780\n",
       "7       15  14.254721\n",
       "8       16  13.955538\n",
       "9       17  13.970966\n",
       "10      17  14.082993\n",
       "11      16  14.510637\n",
       "12      21  13.923003\n",
       "13      11  13.984718\n",
       "14      17  14.112508\n",
       "15      14  13.978681\n",
       "16      17  14.704503\n",
       "17      16  14.027986\n",
       "18      16  14.058508\n",
       "19       8  13.951513\n",
       "20      23  14.312747\n",
       "21      10  14.049116\n",
       "22      19  14.160472\n",
       "23      15  14.448252\n",
       "24      12  14.165167\n",
       "25      17  14.023625\n",
       "26       9  13.997799\n",
       "27      20  14.300337\n",
       "28      14  14.392909\n",
       "29      15  14.021948"
      ]
     },
     "execution_count": 30,
     "metadata": {},
     "output_type": "execute_result"
    }
   ],
   "source": [
    "#Step 4.7: Creating a Dataframe Comparing the Actual and Predicted Values of y.\n",
    "\n",
    "data = pd.DataFrame({'Actual': y_test.flatten(), 'Predicted': y_predicted.flatten()})\n",
    "\n",
    "data.head(30)"
   ]
  },
  {
   "cell_type": "markdown",
   "id": "4716fd81",
   "metadata": {},
   "source": [
    "<b> I see a weird data fitness and the r value shows weak relationship of sort. Maybe start hour has no baring on trip duration or rental duration. "
   ]
  },
  {
   "cell_type": "markdown",
   "id": "fc6c7c0d",
   "metadata": {},
   "source": [
    "## Step 5: The Conclusion"
   ]
  },
  {
   "cell_type": "markdown",
   "id": "da4206ff",
   "metadata": {},
   "source": [
    "### Results not as expected as the data outcome seems unfit. We have noticed a weak relationship between Trip Duration and Start Hour from the r-value which is nearly zero (0). Maybe start hour has no baring on trip duration or rental duration or more info-data is needed to predict better. "
   ]
  },
  {
   "cell_type": "code",
   "execution_count": null,
   "id": "3162cbbc",
   "metadata": {},
   "outputs": [],
   "source": []
  },
  {
   "cell_type": "markdown",
   "id": "90f527cd",
   "metadata": {},
   "source": [
    "## Step 6: Data Export"
   ]
  },
  {
   "cell_type": "code",
   "execution_count": null,
   "id": "bc1180f3",
   "metadata": {},
   "outputs": [],
   "source": [
    "#Step 6.1: Exporting Updated 'NYBikes' Dataset;\n",
    "\n",
    "df_NYBikes.to_csv(os.path.join(path, '02 Data', 'Prepared', 'NYBikes_T64.csv'))"
   ]
  }
 ],
 "metadata": {
  "kernelspec": {
   "display_name": "Python 3 (ipykernel)",
   "language": "python",
   "name": "python3"
  },
  "language_info": {
   "codemirror_mode": {
    "name": "ipython",
    "version": 3
   },
   "file_extension": ".py",
   "mimetype": "text/x-python",
   "name": "python",
   "nbconvert_exporter": "python",
   "pygments_lexer": "ipython3",
   "version": "3.9.13"
  }
 },
 "nbformat": 4,
 "nbformat_minor": 5
}
